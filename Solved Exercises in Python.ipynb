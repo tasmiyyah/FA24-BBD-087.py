{
 "cells": [
  {
   "cell_type": "markdown",
   "id": "12c954ed-2d00-4929-8e95-9097c7bb5669",
   "metadata": {},
   "source": [
    "# Solved Exercises on dictionary in python"
   ]
  },
  {
   "cell_type": "code",
   "execution_count": 64,
   "id": "57a8f1a3-37ec-4698-81ce-b53574c11361",
   "metadata": {},
   "outputs": [
    {
     "name": "stdout",
     "output_type": "stream",
     "text": [
      "{'name': 'tasmiyyah', 'age': '18', 'city': 'lahore', 'hobbies': 'reading,painting'}\n"
     ]
    }
   ],
   "source": [
    "# Practise Exercises \n",
    "#Question no.1 \n",
    "#a) Create a dictionary to store information about a person (name, age, city, hobbies).\n",
    "person = {\"name\":\"tasmiyyah\",\n",
    "          \"age\":\"18\",\n",
    "          \"city\":\"lahore\",\n",
    "          \"hobbies\":\"reading,painting\"\n",
    "         }\n",
    "print(person)\n",
    "\n"
   ]
  },
  {
   "cell_type": "code",
   "execution_count": 12,
   "id": "dd538426-a212-4c85-84ad-ec09bd4d9034",
   "metadata": {},
   "outputs": [
    {
     "name": "stdout",
     "output_type": "stream",
     "text": [
      "{'hello': 1, 'world': 1, 'what': 1, 'is': 1, 'going': 1, 'on': 1}\n"
     ]
    }
   ],
   "source": [
    "#b) Write a program to count the frequency of words in a given text.\n",
    "def word_frequency(text):\n",
    "    words = text.split()\n",
    "    frequency = {}\n",
    "    \n",
    "    for word in words:\n",
    "        word = word.lower().strip(\",.!?\")\n",
    "        if word in frequency:\n",
    "            frequency[word] += 1\n",
    "        else:\n",
    "            frequency[word] = 1\n",
    "            \n",
    "    return frequency\n",
    "\n",
    "# Example usage:\n",
    "text = \"Hello world! What is going on?\"\n",
    "result = word_frequency(text)\n",
    "print(result)\n"
   ]
  },
  {
   "cell_type": "code",
   "execution_count": 66,
   "id": "266711dd-fc7a-403f-97f5-a5608c2bd2a1",
   "metadata": {},
   "outputs": [
    {
     "name": "stdout",
     "output_type": "stream",
     "text": [
      "laptop:74\n",
      "smart watches:78\n",
      "mobiles:165\n",
      "ps5:87\n"
     ]
    }
   ],
   "source": [
    "#c) Implement a simple inventory system using dictionaries.\n",
    "inventory = { \"laptop\":50,\n",
    "             \"smart watches\":78,\n",
    "             \"mobiles\":165\n",
    "            }\n",
    "inventory [\"laptop\"]+=24\n",
    "inventory [\"ps5\"]=87\n",
    "\n",
    "for item,quantity in inventory.items():\n",
    "    print(f\"{item}:{quantity}\")\n"
   ]
  },
  {
   "cell_type": "code",
   "execution_count": 96,
   "id": "724b089d-c9f6-47a9-b17b-10b9a1433eaa",
   "metadata": {},
   "outputs": [
    {
     "name": "stdout",
     "output_type": "stream",
     "text": [
      "The most popular product category is 'Electronics' with 2 orders.\n"
     ]
    }
   ],
   "source": [
    "#d) Analyze a dataset of customer orders to find the most popular product category.\n",
    "from collections import Counter\n",
    "orders = [\n",
    "    {\"order_id\": 1, \"product\": \"Laptop\", \"category\": \"Electronics\", \"quantity\": 1},\n",
    "    {\"order_id\": 2, \"product\": \"Headphones\", \"category\": \"Electronics\", \"quantity\": 2},\n",
    "    {\"order_id\": 3, \"product\": \"Shirt\", \"category\": \"Clothing\", \"quantity\": 3},\n",
    "]\n",
    "\n",
    "\n",
    "categories = [order[\"category\"] for order in orders]\n",
    "category_counts = Counter(categories)\n",
    "\n",
    "# Step 4: Identify the most popular category\n",
    "most_popular_category = category_counts.most_common(1)\n",
    "\n",
    "# Step 5: Print the result\n",
    "if most_popular_category:\n",
    "    category, count = most_popular_category[0]\n",
    "    print(f\"The most popular product category is '{category}' with {count} orders.\")\n",
    "else:\n",
    "    print(\"No categories found.\")"
   ]
  },
  {
   "cell_type": "code",
   "execution_count": 88,
   "id": "6d8c90e4-1dca-4dc4-aa7e-181baaa457f9",
   "metadata": {},
   "outputs": [
    {
     "name": "stdout",
     "output_type": "stream",
     "text": [
      "Amna's average grade: 85.00\n",
      "Mehk's average grade: 87.67\n",
      "Zaha's average grade: 87.67\n"
     ]
    }
   ],
   "source": [
    "#e)Create a dictionary to stare student grades and calculate the average grade.\n",
    "student_grades = {\n",
    "    \"Amna\": [85, 92, 78],\n",
    "    \"Mehk\": [89, 94, 80],\n",
    "    \"Zaha\": [88, 84, 91]\n",
    "}\n",
    "\n",
    "def average_grade(grades):\n",
    "    return sum(grades) / len(grades)\n",
    "\n",
    "# Calculate the average grade for each student\n",
    "for student, grades in student_grades.items():\n",
    "    avg = average_grade(grades)\n",
    "    print(f\"{student}'s average grade: {avg:.2f}\")\n"
   ]
  },
  {
   "cell_type": "code",
   "execution_count": 68,
   "id": "6340a465-fe37-4998-85af-592f8a64d229",
   "metadata": {},
   "outputs": [
    {
     "name": "stdout",
     "output_type": "stream",
     "text": [
      "Average grade is 87.66666666666667\n"
     ]
    }
   ],
   "source": [
    "#e)Create a dictionary to stare student grades and calculate the average grade.\n",
    "grade = {\"Amna\": 85,\n",
    "            \"Mishym\": 90,\n",
    "            \"Tasmiyyah\": 88}\n",
    "avg_grade= sum(grade.values())/len(grade)\n",
    "print(f\"Average grade is {avg_grade}\")\n",
    "\n"
   ]
  },
  {
   "cell_type": "code",
   "execution_count": 82,
   "id": "e2fa4621-af34-4853-91b3-f08fc4eee53f",
   "metadata": {},
   "outputs": [
    {
     "name": "stdout",
     "output_type": "stream",
     "text": [
      "Total inventory value: 325\n",
      "Low-stock items: ['scooties']\n"
     ]
    }
   ],
   "source": [
    "#f) Inventory Management:\n",
    "# Create a dictionary to store product information: name, quantity, price.\n",
    "# Implement functions to:\n",
    "# Add new products\n",
    "# Update product quantities\n",
    "# Calculate total inventory value\n",
    "# Generate a report of low-stock items\n",
    "\n",
    "inventory = {}\n",
    "\n",
    "inventory[\"car\"] = {\"quantity\": 10, \"price\": 20}\n",
    "inventory[\"scooties\"] = {\"quantity\": 2, \"price\": 39}\n",
    "inventory[\"bikes\"] = {\"quantity\": 0, \"price\": 25}\n",
    "inventory[\"scooties\"][\"quantity\"] -= 2\n",
    "inventory[\"bikes\"][\"quantity\"] += 5\n",
    "\n",
    "total_value = 0\n",
    "for product in inventory.values():\n",
    "    total_value += product[\"quantity\"] * product[\"price\"]\n",
    "\n",
    "    low_stock_items = []\n",
    "count = 5\n",
    "for name, details in inventory.items():\n",
    "    if details[\"quantity\"] < count:\n",
    "        low_stock_items.append(name)\n",
    "\n",
    "print(f\"Total inventory value: {total_value}\")\n",
    "print(f\"Low-stock items: {low_stock_items}\")"
   ]
  },
  {
   "cell_type": "code",
   "execution_count": 86,
   "id": "7000f556-8b73-48d8-92b4-f8033d8c5d28",
   "metadata": {},
   "outputs": [
    {
     "name": "stdout",
     "output_type": "stream",
     "text": [
      "Average grades for each student:\n",
      "Amna: 85.00\n",
      "Tasmiyyah: 91.33\n",
      "Zaha: 75.00\n",
      "Mishym: 87.67\n",
      "\n",
      "Highest grade in Math: 95 by Tasmiyyah\n",
      "Lowest grade in Math: 70 by Zaha\n",
      "\n",
      "Students sorted by average grade:\n",
      "Tasmiyyah: 91.33\n",
      "Mishym: 87.67\n",
      "Amna: 85.00\n",
      "Zaha: 75.00\n"
     ]
    }
   ],
   "source": [
    "# g) Student Gradebook:\n",
    "# Create a dictionary to store student information: name, grades for different subjects.\n",
    "# Calculate the average grade for each student.\n",
    "# Find the highest and lowest grades in a specific subject.\n",
    "# Sort students by their average grades.\n",
    "students = {\n",
    "    \"Amna\": {\"Math\": 85, \"English\": 92, \"Science\": 78},\n",
    "    \"Tasmiyyah\": {\"Math\": 95, \"English\": 88, \"Science\": 91},\n",
    "    \"Zaha\": {\"Math\": 70, \"English\": 75, \"Science\": 80},\n",
    "    \"Mishym\": {\"Math\": 90, \"English\": 85, \"Science\": 88},\n",
    "}\n",
    "def calculate_average(grades):\n",
    "    return sum(grades.values()) / len(grades)\n",
    "\n",
    "def highest_and_lowest_in_subject(subject):\n",
    "    highest = lowest = None\n",
    "    highest_student = lowest_student = \"\"\n",
    "    \n",
    "    for student, grades in students.items():\n",
    "        if subject in grades:\n",
    "            grade = grades[subject]\n",
    "            if highest is None or grade > highest:\n",
    "                highest = grade\n",
    "                highest_student = student\n",
    "            if lowest is None or grade < lowest:\n",
    "                lowest = grade\n",
    "                lowest_student = student\n",
    "\n",
    "    return highest_student, highest, lowest_student, lowest\n",
    "\n",
    "\n",
    "def sort_students_by_average():\n",
    "    averages = {student: calculate_average(grades) for student, grades in students.items()}\n",
    "    sorted_students = sorted(averages.items(), key=lambda x: x[1], reverse=True)  # Sort in descending order\n",
    "    return sorted_students\n",
    "\n",
    "print(\"Average grades for each student:\")\n",
    "for student, grades in students.items():\n",
    "    avg = calculate_average(grades)\n",
    "    print(f\"{student}: {avg:.2f}\")\n",
    "subject = \"Math\"\n",
    "highest_student, highest, lowest_student, lowest = highest_and_lowest_in_subject(subject)\n",
    "print(f\"\\nHighest grade in {subject}: {highest} by {highest_student}\")\n",
    "print(f\"Lowest grade in {subject}: {lowest} by {lowest_student}\")\n",
    "\n",
    "sorted_students = sort_students_by_average()\n",
    "print(\"\\nStudents sorted by average grade:\")\n",
    "for student, avg in sorted_students:\n",
    "    print(f\"{student}: {avg:.2f}\")"
   ]
  },
  {
   "cell_type": "code",
   "execution_count": 76,
   "id": "44943f99-18e8-464d-8adf-803730782ad5",
   "metadata": {},
   "outputs": [
    {
     "name": "stdout",
     "output_type": "stream",
     "text": [
      "Cart: {1: 1, 2: 1}\n",
      "Total: 1260.0\n"
     ]
    }
   ],
   "source": [
    "# h) Simple E-commerce Store:\n",
    "# Create a dictionary to store product information: name, price, quantity.\n",
    "# Implement a shopping cart feature where users can add and remove products.\n",
    "# Calculate the total cost of items in the cart.\n",
    "# Apply discounts and taxes to the total cost.\n",
    "products = {\n",
    "    1: {\"name\": \"fan\", \"price\": 1000, \"quantity\": 10},\n",
    "    2: {\"name\": \"bulb\", \"price\": 500, \"quantity\": 20},\n",
    "    3: {\"name\": \"blanket\", \"price\": 300, \"quantity\": 15}\n",
    "}\n",
    "\n",
    "cart = {}\n",
    "\n",
    "product_id = 1\n",
    "quantity = 2\n",
    "if product_id in products and products[product_id][\"quantity\"] >= quantity:\n",
    "    if product_id in cart:\n",
    "        cart[product_id] += quantity\n",
    "    else:\n",
    "        cart[product_id] = quantity\n",
    "    products[product_id][\"quantity\"] -= quantity\n",
    "\n",
    "product_id = 2\n",
    "quantity = 1\n",
    "if product_id in products and products[product_id][\"quantity\"] >= quantity:\n",
    "    if product_id in cart:\n",
    "        cart[product_id] += quantity\n",
    "    else:\n",
    "        cart[product_id] = quantity\n",
    "    products[product_id][\"quantity\"] -= quantity\n",
    "\n",
    "product_id = 1\n",
    "quantity = 1\n",
    "if product_id in cart and cart[product_id] >= quantity:\n",
    "    cart[product_id] -= quantity\n",
    "    products[product_id][\"quantity\"] += quantity\n",
    "    if cart[product_id] == 0:\n",
    "        del cart[product_id]\n",
    "\n",
    "total = sum(products[pid][\"price\"] * qty for pid, qty in cart.items())\n",
    "discount = 20\n",
    "tax = 5\n",
    "total -= total * (discount / 100)\n",
    "total += total * (tax / 100)\n",
    "\n",
    "print(\"Cart:\", cart)\n",
    "print(\"Total:\", total)"
   ]
  },
  {
   "cell_type": "code",
   "execution_count": null,
   "id": "3f38102b-4f5c-45f1-814a-43c7504c5379",
   "metadata": {},
   "outputs": [],
   "source": []
  }
 ],
 "metadata": {
  "kernelspec": {
   "display_name": "Python 3 (ipykernel)",
   "language": "python",
   "name": "python3"
  },
  "language_info": {
   "codemirror_mode": {
    "name": "ipython",
    "version": 3
   },
   "file_extension": ".py",
   "mimetype": "text/x-python",
   "name": "python",
   "nbconvert_exporter": "python",
   "pygments_lexer": "ipython3",
   "version": "3.12.7"
  }
 },
 "nbformat": 4,
 "nbformat_minor": 5
}
